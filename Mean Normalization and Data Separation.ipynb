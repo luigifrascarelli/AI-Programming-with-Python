{
 "cells": [
  {
   "cell_type": "markdown",
   "metadata": {},
   "source": [
    "# Mean Normalization\n",
    "\n",
    "In machine learning we use large amounts of data to train our models. Some machine learning algorithms may require that the data is *normalized* in order to work correctly. The idea of normalization, also known as *feature scaling*, is to ensure that all the data is on a similar scale, *i.e.* that all the data takes on a similar range of values. For example, we might have a dataset that has values between 0 and 5,000. By normalizing the data we can make the range of values be between 0 and 1.\n",
    "\n",
    "In this lab you will be performing a particular form of feature scaling known as *mean normalization*. Mean normalization will not only scale the data but will also ensure your data has zero mean. \n",
    "\n",
    "# To Do:\n",
    "\n",
    "You will start by importing NumPy and creating a rank 2 ndarray of random integers between 0 and 5,000 (inclusive) with 1000 rows and 20 columns. This array will simulate a dataset with a wide range of values. Fill in the code below"
   ]
  },
  {
   "cell_type": "code",
   "execution_count": 18,
   "metadata": {},
   "outputs": [
    {
     "name": "stdout",
     "output_type": "stream",
     "text": [
      "(1000, 20)\n"
     ]
    }
   ],
   "source": [
    "    # import NumPy into Python\n",
    "    import numpy as np\n",
    "\n",
    "    # Create a 1000 x 20 ndarray with random integers in the half-open interval [0, 5001).\n",
    "    X = np.random.randint(0,5001,(1000,20))\n",
    "\n",
    "    # print the shape of X\n",
    "    print(X.shape)"
   ]
  },
  {
   "cell_type": "markdown",
   "metadata": {},
   "source": [
    "Now that you created the array we will mean normalize it. We will perform mean normalization using the following equation:\n",
    "\n",
    "$\\mbox{Norm_Col}_i = \\frac{\\mbox{Col}_i - \\mu_i}{\\sigma_i}$\n",
    "\n",
    "where $\\mbox{Col}_i$ is the $i$th column of $X$, $\\mu_i$ is average of the values in the $i$th column of $X$, and $\\sigma_i$ is the standard deviation of the values in the $i$th column of $X$. In other words, mean normalization is performed by subtracting from each column of $X$ the average of its values, and then by dividing by the standard deviation of its values. In the space below, you will first calculate the average and standard deviation of each column of $X$. "
   ]
  },
  {
   "cell_type": "code",
   "execution_count": 44,
   "metadata": {},
   "outputs": [
    {
     "name": "stdout",
     "output_type": "stream",
     "text": [
      "[ 2469.267  2504.163  2516.322  2489.592  2544.142  2490.609  2436.443\n",
      "  2532.075  2508.505  2505.744  2520.357  2505.058  2566.631  2566.421\n",
      "  2606.811  2533.552  2540.215  2539.577  2550.021  2553.551]\n",
      "[ 1432.03130333  1445.46658226  1417.63464134  1471.1847068   1443.98424847\n",
      "  1406.727029    1462.0728931   1425.80429561  1473.91941231  1454.08420818\n",
      "  1423.83551352  1436.67337855  1440.10943433  1444.68565984  1423.41804516\n",
      "  1463.2847335   1471.5283126   1476.2768013   1438.52924494  1445.23068449]\n"
     ]
    }
   ],
   "source": [
    "# Average of the values in each column of X\n",
    "ave_cols = X.mean(axis=0)\n",
    "\n",
    "# Standard Deviation of the values in each column of X\n",
    "std_cols = X.std(axis=0)\n",
    "\n",
    "print(ave_cols)\n",
    "print(std_cols)"
   ]
  },
  {
   "cell_type": "markdown",
   "metadata": {},
   "source": [
    "If you have done the above calculations correctly, then `ave_cols` and `std_cols`, should both be vectors with shape `(20,)` since $X$ has 20 columns. You can verify this by filling the code below:"
   ]
  },
  {
   "cell_type": "code",
   "execution_count": 51,
   "metadata": {},
   "outputs": [
    {
     "name": "stdout",
     "output_type": "stream",
     "text": [
      "(20,)\n",
      "(20,)\n"
     ]
    }
   ],
   "source": [
    "# Print the shape of ave_cols\n",
    "ave_cols = X.mean(axis=0)\n",
    "# Print the shape of std_cols\n",
    "std_cols = X.std(axis=0)\n",
    "\n",
    "print(ave_cols.shape)\n",
    "print(std_cols.shape)"
   ]
  },
  {
   "cell_type": "markdown",
   "metadata": {},
   "source": [
    "You can now take advantage of Broadcasting to calculate the mean normalized version of $X$ in just one line of code using the equation above. Fill in the code below"
   ]
  },
  {
   "cell_type": "code",
   "execution_count": 52,
   "metadata": {},
   "outputs": [
    {
     "name": "stdout",
     "output_type": "stream",
     "text": [
      "[[-0.75017005  0.7498181  -1.75667406 ..., -0.17041316 -1.14562912\n",
      "   1.38140507]\n",
      " [-1.01133753  1.22094625  0.78841047 ...,  0.76911254  0.5540235\n",
      "  -1.59320655]\n",
      " [ 1.50676385  0.29944449  1.34497137 ...,  1.66460856  0.42750539\n",
      "   1.48934632]\n",
      " ..., \n",
      " [-1.57207946 -0.89048271  1.22999111 ..., -1.38834194  1.70241864\n",
      "  -1.18358337]\n",
      " [ 0.06545457  1.07566444  1.13476206 ...,  0.1953719   1.42922294\n",
      "   1.57998929]\n",
      " [ 0.78820414  0.82453445  0.21633077 ..., -1.47165965 -1.63501785\n",
      "   0.31513931]]\n"
     ]
    }
   ],
   "source": [
    "# Mean normalize X\n",
    "X_norm = (X - ave_cols)/(std_cols)\n",
    "print(X_norm)"
   ]
  },
  {
   "cell_type": "markdown",
   "metadata": {},
   "source": [
    "If you have performed the mean normalization correctly, then the average of all the elements in $X_{\\tiny{\\mbox{norm}}}$ should be close to zero. You can verify this by filing the code below:"
   ]
  },
  {
   "cell_type": "code",
   "execution_count": 46,
   "metadata": {},
   "outputs": [
    {
     "name": "stdout",
     "output_type": "stream",
     "text": [
      "-1.7763568394e-17\n",
      "-1.82434879819\n",
      "1.77816374352\n"
     ]
    }
   ],
   "source": [
    "# Print the average of all the values of X_norm\n",
    "print(X_norm.mean())\n",
    "# Print the minimum value of each column of X_norm\n",
    "print(X_norm.min())\n",
    "# Print the maximum value of each column of X_norm\n",
    "print(X_norm.max())"
   ]
  },
  {
   "cell_type": "markdown",
   "metadata": {},
   "source": [
    "You should note that since $X$ was created using random integers, the above values will vary. \n",
    "\n",
    "# Data Separation\n",
    "\n",
    "After the data has been mean normalized, it is customary in machine learnig to split our dataset into three sets:\n",
    "\n",
    "1. A Training Set\n",
    "2. A Cross Validation Set\n",
    "3. A Test Set\n",
    "\n",
    "The dataset is usually divided such that the Training Set contains 60% of the data, the Cross Validation Set contains 20% of the data, and the Test Set contains 20% of the data. \n",
    "\n",
    "In this part of the lab you will separate `X_norm` into a Training Set, Cross Validation Set, and a Test Set. Each data set will contain rows of `X_norm` chosen at random, making sure that we don't pick the same row twice. This will guarantee that all the rows of `X_norm` are chosen and randomly distributed among the three new sets.\n",
    "\n",
    "You will start by creating a rank 1 ndarray that contains a random permutation of the row indices of `X_norm`. You can do this by using the `np.random.permutation()` function. The `np.random.permutation(N)` function creates a random permutation of integers from 0 to `N - 1`. Let's see an example:"
   ]
  },
  {
   "cell_type": "code",
   "execution_count": 31,
   "metadata": {},
   "outputs": [
    {
     "data": {
      "text/plain": [
       "array([4, 2, 0, 1, 3])"
      ]
     },
     "execution_count": 31,
     "metadata": {},
     "output_type": "execute_result"
    }
   ],
   "source": [
    "# We create a random permutation of integers 0 to 4\n",
    "np.random.permutation(5)"
   ]
  },
  {
   "cell_type": "markdown",
   "metadata": {},
   "source": [
    "# To Do\n",
    "\n",
    "In the space below create a rank 1 ndarray that contains a random permutation of the row indices of `X_norm`. You can do this in one line of code by extracting the number of rows of `X_norm` using the `shape` attribute and then passing it to the  `np.random.permutation()` function. Remember the `shape` attribute returns a tuple with two numbers in the form `(rows,columns)`."
   ]
  },
  {
   "cell_type": "code",
   "execution_count": 47,
   "metadata": {},
   "outputs": [
    {
     "name": "stdout",
     "output_type": "stream",
     "text": [
      "[478 866 297 302 259 865 665 325 390 854 764 350  32  55 609 774 796 659\n",
      " 956  16 747 668 971 521 715  10 294 180  81 880  67 481 182 516 303 908\n",
      " 889 975 944 684 148 293  62 982 838 890 398 289 231 938 682 800  84 919\n",
      " 475 119 286 375 438 596 681 476 308 191  20 696 674 978 730 169 327 737\n",
      " 531 256 204 384 504 721 503 726 431 693 522 614 959 123 490 955 572  54\n",
      " 125  74 357 917 802 650 797 427 290 200  75 485 722 645 586 318 117 587\n",
      " 935 206 320 604 921 356 246 226 328 165 567  14 285 430 906 468 718 501\n",
      " 406 862 397 887 317 520 512 219 902 874 757 957 703 823 915  37 595 815\n",
      " 498  36 425 989 994 273 822 292 275  52 810 699 966 963 792 776 885 227\n",
      " 288 383 793  80 486 576 998 859  29 829 344 798 635 637 871 181 939 210\n",
      " 103 948 616  87 336 949 891 404 638 643 385 864 333 653 552 579 831 716\n",
      " 897 134 163 634   1 568 598 469 585 381 652 773 373 451 669 314 844 464\n",
      " 918 139 845 909 361  40 980 709  45 525 313  99 713 711 420 126 870  94\n",
      " 137 371 496 452 435 177 622 954 362 754 769 284 825 855 667 676 695 813\n",
      " 462  49 562 742 826 548 374 729 261 803 549 678 489  65  47  90 558 337\n",
      " 920 710 688 511 368 291  24 540 124 961 316 664 477 663 987 388 282 367\n",
      " 762 331 759 923 546 840 442 605 473 690 872 960 421 877 400 209 393 202\n",
      " 143 342 881   6 673 962 369 408 991 377  53 128 869 950 376 698 657 247\n",
      " 739 440 312 223 701 590 301 335 229 804 513 184 339 809 198 194 993 115\n",
      " 102 465 868 164 399 976 680 133 244 641 266  64 584 152 428 145 632 378\n",
      " 372 606 618 760 767 122 765  44 758 926 106 192 940 243   8  50   3 768\n",
      " 819 524 848 766 824   9 780 472 394 193 190 651 334 183  35 296 222 626\n",
      " 853 941 932 499 446 873  38 326 896 740 306 857  85 817 252 279  25 175\n",
      " 743 892 419 820 591 532 346 934 705 640 922 534 964  58 207 315 363  51\n",
      " 235 142 789 426 761 594 642 410 319  97 677 708 474   0 255 849 324 692\n",
      "  18 610 779 551 111  28 879 514  34 937 108 936 269 270 166 114 893 146\n",
      " 251 508  21 141 930 925 863 500 631 745 607 945 816 347 159 969 953 105\n",
      " 443 543 310 370 599 424 224 913 208 321 717 627  69 750 217 253 265 832\n",
      "  63  19 570  31 749 979 856 671 973 535 589 526 644 205 741 234 620  60\n",
      " 733 129  93 905 349 633 801 689 304 271 352 203 985 624  11 480 990 132\n",
      " 174 560 841 582 977 239 861 449 162 153 241 911 697  13 401 283 666 565\n",
      " 967 592 196 109 619 233 298 687 453 912 171 396 329 422  42 808 305 600\n",
      " 702 414 924 454 100 561 258 821 215 700  96  23 636 894  59 777 735 564\n",
      " 968  57 382 647 723 884 505 679 654 903 728 927 433 786 154 550 418  56\n",
      " 974 112 450 127  88 928  12 661 541  73 691 557 655  95 144 178 176 875\n",
      " 952 602 751 147 437  82 120 867 332 942 220 232 753 248 405 785 278 466\n",
      " 720  98 395  91 858 214 746 811 459 983 101 734 559 775 878 748 135 338\n",
      " 104 179 257 216 900 280 403 238 704  66 847 197 463 566 807 914 167 228\n",
      " 359 996 553 268 563 578 491 907 533 423 812 675 876 860 910 150 947 366\n",
      " 507 236   5 670 571  70 992  68 833 639 933 806 837 787 264 434 828 958\n",
      " 756 360 309 686 157 712 411 448 771 195 386 482 615  72 201 121 307 230\n",
      " 156 249 113 778 662  86 788 672 518 131 597  17 212  61 189 260 523  71\n",
      " 827 351 988 413  83 929  79 254 752 724  92  43 250 846 794 517 402 852\n",
      " 613 444 392 527 412 707 763 528 706 188 621 836 544 497 843 276 492   7\n",
      " 731 461 685 221 593 407 530  33 617 539 986 245 970 149 790 656 348 355\n",
      " 267 755 629 951 211 899 569 573 323 116 170 263  41 538 646 436  48 601\n",
      " 943 625 322 727 470 795 886 818 623 300 168 432 577 155 467 343 161 835\n",
      " 814 738 603 299 187 995 931  77 494  46 536   4 830 274 660 784 358 850\n",
      " 225  89 895 782 218 719 130 495  27 842 519 138 574 483  39 547 515 545\n",
      " 340 630 107 509 965 736 389 353 341 946 118 898 415 732 805 997  30 725\n",
      " 416 387 458 199 554 439 781 510 272 575 714 658 158 981 904 409 506 791\n",
      " 770 916 834 581 262 611 542 160 901 456 851 429 445 608 364 537 839 984\n",
      " 487 365 649 460  78 391 972 441 277 455 380 580  15 683   2 744 242 237\n",
      " 588 172 493 140 612 311 287 882 799 457 151 999 883 694  22 110 330 484\n",
      " 379 628 479 488 173 772 281 556 345  26 783 240 213 186 583 529 185 417\n",
      " 888  76 295 447 555 471 502 354 648 136]\n"
     ]
    }
   ],
   "source": [
    "# Create a rank 1 ndarray that contains a random permutation of the row indices of `X_norm`\n",
    "row_indices = np.random.permutation(X_norm.shape[0])\n",
    "print(row_indices)"
   ]
  },
  {
   "cell_type": "markdown",
   "metadata": {},
   "source": [
    "Now you can create the three datasets using the `row_indices` ndarray to select the rows that will go into each dataset. Rememeber that the Training Set contains 60% of the data, the Cross Validation Set contains 20% of the data, and the Test Set contains 20% of the data. Each set requires just one line of code to create. Fill in the code below"
   ]
  },
  {
   "cell_type": "code",
   "execution_count": 63,
   "metadata": {},
   "outputs": [],
   "source": [
    "# Make any necessary calculations.\n",
    "# You can save your calculations into variables to use later.\n",
    "\n",
    "# Create a Training Set\n",
    "X_train = X_norm[row_indices[:600],:]\n",
    "\n",
    "# Create a Cross Validation Set\n",
    "X_crossVal = X_norm[row_indices[600:800],:]\n",
    "\n",
    "# Create a Test Set\n",
    "X_test = X_norm[row_indices[800:],:]"
   ]
  },
  {
   "cell_type": "markdown",
   "metadata": {},
   "source": [
    "If you performed the above calculations correctly, then `X_tain` should have 600 rows and 20 columns, `X_crossVal` should have 200 rows and 20 columns, and `X_test` should have 200 rows and 20 columns. You can verify this by filling the code below:"
   ]
  },
  {
   "cell_type": "code",
   "execution_count": 64,
   "metadata": {},
   "outputs": [
    {
     "name": "stdout",
     "output_type": "stream",
     "text": [
      "(600, 20)\n",
      "(200, 20)\n",
      "(200, 20)\n"
     ]
    }
   ],
   "source": [
    "# Print the shape of X_train\n",
    "print(X_train.shape)\n",
    "# Print the shape of X_crossVal\n",
    "print(X_crossVal.shape)\n",
    "# Print the shape of X_test\n",
    "print(X_test.shape)"
   ]
  },
  {
   "cell_type": "code",
   "execution_count": null,
   "metadata": {},
   "outputs": [],
   "source": []
  }
 ],
 "metadata": {
  "kernelspec": {
   "display_name": "Python 3",
   "language": "python",
   "name": "python3"
  },
  "language_info": {
   "codemirror_mode": {
    "name": "ipython",
    "version": 3
   },
   "file_extension": ".py",
   "mimetype": "text/x-python",
   "name": "python",
   "nbconvert_exporter": "python",
   "pygments_lexer": "ipython3",
   "version": "3.6.3"
  }
 },
 "nbformat": 4,
 "nbformat_minor": 2
}
